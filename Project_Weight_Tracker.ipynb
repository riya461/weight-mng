{
  "cells": [
    {
      "cell_type": "markdown",
      "metadata": {
        "id": "view-in-github",
        "colab_type": "text"
      },
      "source": [
        "<a href=\"https://colab.research.google.com/github/riya461/weight-mng/blob/main/Project_Weight_Tracker.ipynb\" target=\"_parent\"><img src=\"https://colab.research.google.com/assets/colab-badge.svg\" alt=\"Open In Colab\"/></a>"
      ]
    },
    {
      "cell_type": "code",
      "execution_count": 34,
      "metadata": {
        "id": "Rwp3zt0Ex-7Q",
        "colab": {
          "base_uri": "https://localhost:8080/",
          "height": 423
        },
        "outputId": "7ff85bb0-2928-4d10-8c44-7dcc32c245ef"
      },
      "outputs": [
        {
          "output_type": "execute_result",
          "data": {
            "text/plain": [
              "    Days       Date  Weight in kg        BMI  Balance kg  Drop kg Exercise  \\\n",
              "0      1 2022-04-01         86.09  32.008477       21.09     0.00       No   \n",
              "1      2 2022-04-02         86.55  32.179506       21.55    -0.46       No   \n",
              "2      3 2022-04-03         85.86  31.922963       20.86     0.23       No   \n",
              "3      4 2022-04-04         86.00  31.975015       21.00     0.09       No   \n",
              "4      5 2022-04-05         86.64  32.212968       21.64    -0.55      Yes   \n",
              "..   ...        ...           ...        ...         ...      ...      ...   \n",
              "85    86 2022-06-25         67.55  25.115259        2.55    18.54     Yes    \n",
              "86    87 2022-06-26         67.55  25.115259        2.55    18.54     Yes    \n",
              "87    88 2022-06-27         67.00  24.910767        2.00    19.09      Yes   \n",
              "88    89 2022-06-28         66.36  24.672814        1.36    19.73     Yes    \n",
              "89    90 2022-06-29         66.36  24.672814        1.36    19.73     Yes    \n",
              "\n",
              "    Height in Mts   1.64  Unnamed: 9  Target  65  \n",
              "0              NaN   NaN         NaN     NaN NaN  \n",
              "1              NaN   NaN         NaN     NaN NaN  \n",
              "2              NaN   NaN         NaN     NaN NaN  \n",
              "3              NaN   NaN         NaN     NaN NaN  \n",
              "4              NaN   NaN         NaN     NaN NaN  \n",
              "..             ...   ...         ...     ...  ..  \n",
              "85             NaN   NaN         NaN     NaN NaN  \n",
              "86             NaN   NaN         NaN     NaN NaN  \n",
              "87             NaN   NaN         NaN     NaN NaN  \n",
              "88             NaN   NaN         NaN     NaN NaN  \n",
              "89             NaN   NaN         NaN     NaN NaN  \n",
              "\n",
              "[90 rows x 12 columns]"
            ],
            "text/html": [
              "\n",
              "  <div id=\"df-19106824-55f5-4822-bab8-652d15efc7f6\">\n",
              "    <div class=\"colab-df-container\">\n",
              "      <div>\n",
              "<style scoped>\n",
              "    .dataframe tbody tr th:only-of-type {\n",
              "        vertical-align: middle;\n",
              "    }\n",
              "\n",
              "    .dataframe tbody tr th {\n",
              "        vertical-align: top;\n",
              "    }\n",
              "\n",
              "    .dataframe thead th {\n",
              "        text-align: right;\n",
              "    }\n",
              "</style>\n",
              "<table border=\"1\" class=\"dataframe\">\n",
              "  <thead>\n",
              "    <tr style=\"text-align: right;\">\n",
              "      <th></th>\n",
              "      <th>Days</th>\n",
              "      <th>Date</th>\n",
              "      <th>Weight in kg</th>\n",
              "      <th>BMI</th>\n",
              "      <th>Balance kg</th>\n",
              "      <th>Drop kg</th>\n",
              "      <th>Exercise</th>\n",
              "      <th>Height in Mts</th>\n",
              "      <th>1.64</th>\n",
              "      <th>Unnamed: 9</th>\n",
              "      <th>Target</th>\n",
              "      <th>65</th>\n",
              "    </tr>\n",
              "  </thead>\n",
              "  <tbody>\n",
              "    <tr>\n",
              "      <th>0</th>\n",
              "      <td>1</td>\n",
              "      <td>2022-04-01</td>\n",
              "      <td>86.09</td>\n",
              "      <td>32.008477</td>\n",
              "      <td>21.09</td>\n",
              "      <td>0.00</td>\n",
              "      <td>No</td>\n",
              "      <td>NaN</td>\n",
              "      <td>NaN</td>\n",
              "      <td>NaN</td>\n",
              "      <td>NaN</td>\n",
              "      <td>NaN</td>\n",
              "    </tr>\n",
              "    <tr>\n",
              "      <th>1</th>\n",
              "      <td>2</td>\n",
              "      <td>2022-04-02</td>\n",
              "      <td>86.55</td>\n",
              "      <td>32.179506</td>\n",
              "      <td>21.55</td>\n",
              "      <td>-0.46</td>\n",
              "      <td>No</td>\n",
              "      <td>NaN</td>\n",
              "      <td>NaN</td>\n",
              "      <td>NaN</td>\n",
              "      <td>NaN</td>\n",
              "      <td>NaN</td>\n",
              "    </tr>\n",
              "    <tr>\n",
              "      <th>2</th>\n",
              "      <td>3</td>\n",
              "      <td>2022-04-03</td>\n",
              "      <td>85.86</td>\n",
              "      <td>31.922963</td>\n",
              "      <td>20.86</td>\n",
              "      <td>0.23</td>\n",
              "      <td>No</td>\n",
              "      <td>NaN</td>\n",
              "      <td>NaN</td>\n",
              "      <td>NaN</td>\n",
              "      <td>NaN</td>\n",
              "      <td>NaN</td>\n",
              "    </tr>\n",
              "    <tr>\n",
              "      <th>3</th>\n",
              "      <td>4</td>\n",
              "      <td>2022-04-04</td>\n",
              "      <td>86.00</td>\n",
              "      <td>31.975015</td>\n",
              "      <td>21.00</td>\n",
              "      <td>0.09</td>\n",
              "      <td>No</td>\n",
              "      <td>NaN</td>\n",
              "      <td>NaN</td>\n",
              "      <td>NaN</td>\n",
              "      <td>NaN</td>\n",
              "      <td>NaN</td>\n",
              "    </tr>\n",
              "    <tr>\n",
              "      <th>4</th>\n",
              "      <td>5</td>\n",
              "      <td>2022-04-05</td>\n",
              "      <td>86.64</td>\n",
              "      <td>32.212968</td>\n",
              "      <td>21.64</td>\n",
              "      <td>-0.55</td>\n",
              "      <td>Yes</td>\n",
              "      <td>NaN</td>\n",
              "      <td>NaN</td>\n",
              "      <td>NaN</td>\n",
              "      <td>NaN</td>\n",
              "      <td>NaN</td>\n",
              "    </tr>\n",
              "    <tr>\n",
              "      <th>...</th>\n",
              "      <td>...</td>\n",
              "      <td>...</td>\n",
              "      <td>...</td>\n",
              "      <td>...</td>\n",
              "      <td>...</td>\n",
              "      <td>...</td>\n",
              "      <td>...</td>\n",
              "      <td>...</td>\n",
              "      <td>...</td>\n",
              "      <td>...</td>\n",
              "      <td>...</td>\n",
              "      <td>...</td>\n",
              "    </tr>\n",
              "    <tr>\n",
              "      <th>85</th>\n",
              "      <td>86</td>\n",
              "      <td>2022-06-25</td>\n",
              "      <td>67.55</td>\n",
              "      <td>25.115259</td>\n",
              "      <td>2.55</td>\n",
              "      <td>18.54</td>\n",
              "      <td>Yes</td>\n",
              "      <td>NaN</td>\n",
              "      <td>NaN</td>\n",
              "      <td>NaN</td>\n",
              "      <td>NaN</td>\n",
              "      <td>NaN</td>\n",
              "    </tr>\n",
              "    <tr>\n",
              "      <th>86</th>\n",
              "      <td>87</td>\n",
              "      <td>2022-06-26</td>\n",
              "      <td>67.55</td>\n",
              "      <td>25.115259</td>\n",
              "      <td>2.55</td>\n",
              "      <td>18.54</td>\n",
              "      <td>Yes</td>\n",
              "      <td>NaN</td>\n",
              "      <td>NaN</td>\n",
              "      <td>NaN</td>\n",
              "      <td>NaN</td>\n",
              "      <td>NaN</td>\n",
              "    </tr>\n",
              "    <tr>\n",
              "      <th>87</th>\n",
              "      <td>88</td>\n",
              "      <td>2022-06-27</td>\n",
              "      <td>67.00</td>\n",
              "      <td>24.910767</td>\n",
              "      <td>2.00</td>\n",
              "      <td>19.09</td>\n",
              "      <td>Yes</td>\n",
              "      <td>NaN</td>\n",
              "      <td>NaN</td>\n",
              "      <td>NaN</td>\n",
              "      <td>NaN</td>\n",
              "      <td>NaN</td>\n",
              "    </tr>\n",
              "    <tr>\n",
              "      <th>88</th>\n",
              "      <td>89</td>\n",
              "      <td>2022-06-28</td>\n",
              "      <td>66.36</td>\n",
              "      <td>24.672814</td>\n",
              "      <td>1.36</td>\n",
              "      <td>19.73</td>\n",
              "      <td>Yes</td>\n",
              "      <td>NaN</td>\n",
              "      <td>NaN</td>\n",
              "      <td>NaN</td>\n",
              "      <td>NaN</td>\n",
              "      <td>NaN</td>\n",
              "    </tr>\n",
              "    <tr>\n",
              "      <th>89</th>\n",
              "      <td>90</td>\n",
              "      <td>2022-06-29</td>\n",
              "      <td>66.36</td>\n",
              "      <td>24.672814</td>\n",
              "      <td>1.36</td>\n",
              "      <td>19.73</td>\n",
              "      <td>Yes</td>\n",
              "      <td>NaN</td>\n",
              "      <td>NaN</td>\n",
              "      <td>NaN</td>\n",
              "      <td>NaN</td>\n",
              "      <td>NaN</td>\n",
              "    </tr>\n",
              "  </tbody>\n",
              "</table>\n",
              "<p>90 rows × 12 columns</p>\n",
              "</div>\n",
              "      <button class=\"colab-df-convert\" onclick=\"convertToInteractive('df-19106824-55f5-4822-bab8-652d15efc7f6')\"\n",
              "              title=\"Convert this dataframe to an interactive table.\"\n",
              "              style=\"display:none;\">\n",
              "        \n",
              "  <svg xmlns=\"http://www.w3.org/2000/svg\" height=\"24px\"viewBox=\"0 0 24 24\"\n",
              "       width=\"24px\">\n",
              "    <path d=\"M0 0h24v24H0V0z\" fill=\"none\"/>\n",
              "    <path d=\"M18.56 5.44l.94 2.06.94-2.06 2.06-.94-2.06-.94-.94-2.06-.94 2.06-2.06.94zm-11 1L8.5 8.5l.94-2.06 2.06-.94-2.06-.94L8.5 2.5l-.94 2.06-2.06.94zm10 10l.94 2.06.94-2.06 2.06-.94-2.06-.94-.94-2.06-.94 2.06-2.06.94z\"/><path d=\"M17.41 7.96l-1.37-1.37c-.4-.4-.92-.59-1.43-.59-.52 0-1.04.2-1.43.59L10.3 9.45l-7.72 7.72c-.78.78-.78 2.05 0 2.83L4 21.41c.39.39.9.59 1.41.59.51 0 1.02-.2 1.41-.59l7.78-7.78 2.81-2.81c.8-.78.8-2.07 0-2.86zM5.41 20L4 18.59l7.72-7.72 1.47 1.35L5.41 20z\"/>\n",
              "  </svg>\n",
              "      </button>\n",
              "      \n",
              "  <style>\n",
              "    .colab-df-container {\n",
              "      display:flex;\n",
              "      flex-wrap:wrap;\n",
              "      gap: 12px;\n",
              "    }\n",
              "\n",
              "    .colab-df-convert {\n",
              "      background-color: #E8F0FE;\n",
              "      border: none;\n",
              "      border-radius: 50%;\n",
              "      cursor: pointer;\n",
              "      display: none;\n",
              "      fill: #1967D2;\n",
              "      height: 32px;\n",
              "      padding: 0 0 0 0;\n",
              "      width: 32px;\n",
              "    }\n",
              "\n",
              "    .colab-df-convert:hover {\n",
              "      background-color: #E2EBFA;\n",
              "      box-shadow: 0px 1px 2px rgba(60, 64, 67, 0.3), 0px 1px 3px 1px rgba(60, 64, 67, 0.15);\n",
              "      fill: #174EA6;\n",
              "    }\n",
              "\n",
              "    [theme=dark] .colab-df-convert {\n",
              "      background-color: #3B4455;\n",
              "      fill: #D2E3FC;\n",
              "    }\n",
              "\n",
              "    [theme=dark] .colab-df-convert:hover {\n",
              "      background-color: #434B5C;\n",
              "      box-shadow: 0px 1px 3px 1px rgba(0, 0, 0, 0.15);\n",
              "      filter: drop-shadow(0px 1px 2px rgba(0, 0, 0, 0.3));\n",
              "      fill: #FFFFFF;\n",
              "    }\n",
              "  </style>\n",
              "\n",
              "      <script>\n",
              "        const buttonEl =\n",
              "          document.querySelector('#df-19106824-55f5-4822-bab8-652d15efc7f6 button.colab-df-convert');\n",
              "        buttonEl.style.display =\n",
              "          google.colab.kernel.accessAllowed ? 'block' : 'none';\n",
              "\n",
              "        async function convertToInteractive(key) {\n",
              "          const element = document.querySelector('#df-19106824-55f5-4822-bab8-652d15efc7f6');\n",
              "          const dataTable =\n",
              "            await google.colab.kernel.invokeFunction('convertToInteractive',\n",
              "                                                     [key], {});\n",
              "          if (!dataTable) return;\n",
              "\n",
              "          const docLinkHtml = 'Like what you see? Visit the ' +\n",
              "            '<a target=\"_blank\" href=https://colab.research.google.com/notebooks/data_table.ipynb>data table notebook</a>'\n",
              "            + ' to learn more about interactive tables.';\n",
              "          element.innerHTML = '';\n",
              "          dataTable['output_type'] = 'display_data';\n",
              "          await google.colab.output.renderOutput(dataTable, element);\n",
              "          const docLink = document.createElement('div');\n",
              "          docLink.innerHTML = docLinkHtml;\n",
              "          element.appendChild(docLink);\n",
              "        }\n",
              "      </script>\n",
              "    </div>\n",
              "  </div>\n",
              "  "
            ]
          },
          "metadata": {},
          "execution_count": 34
        }
      ],
      "source": [
        "import pandas as pd\n",
        "var = pd.read_excel(\"weightmng.xlsx\")\n",
        "var\n",
        "\n"
      ]
    },
    {
      "cell_type": "code",
      "execution_count": 35,
      "metadata": {
        "colab": {
          "base_uri": "https://localhost:8080/",
          "height": 606
        },
        "id": "bhIcQRg306Ft",
        "outputId": "7db3a6cb-95f8-4868-d2c3-73861083a7ba"
      },
      "outputs": [
        {
          "output_type": "display_data",
          "data": {
            "text/plain": [
              "<Figure size 720x720 with 1 Axes>"
            ],
            "image/png": "[encoded data removed]"
          },
          "metadata": {}
        }
      ],
      "source": [
        "import matplotlib.pyplot as plt\n",
        "\n",
        "\n",
        "\n",
        "x = list(var['Days'])\n",
        "y = list(var['Weight in kg'])\n",
        "\n",
        "plt.figure(figsize=(10,10))\n",
        "plt.style.use('seaborn')\n",
        "plt.scatter(x,y,marker=\".\",s=20,edgecolors=\"black\",c=\"red\")\n",
        "plt.title(\"Days vs Weight in kg\")\n",
        "plt.show()"
      ]
    },
    {
      "cell_type": "code",
      "execution_count": 36,
      "metadata": {
        "id": "1-GGRSB3rQpf",
        "colab": {
          "base_uri": "https://localhost:8080/",
          "height": 606
        },
        "outputId": "1da1ae98-98fc-4674-807d-fe8d12ca745c"
      },
      "outputs": [
        {
          "output_type": "display_data",
          "data": {
            "text/plain": [
              "<Figure size 720x720 with 1 Axes>"
            ],
            "image/png": "[encoded data removed]"
          },
          "metadata": {}
        }
      ],
      "source": [
        "x = list(var['Days'])\n",
        "y = list(var['BMI'])\n",
        "\n",
        "\n",
        "plt.figure(figsize=(10,10))\n",
        "plt.style.use('seaborn')\n",
        "plt.scatter(x,y,marker=\".\",s=20,edgecolors=\"black\",c=\"red\")\n",
        "plt.title(\"Days vs BMI\")\n",
        "plt.show()\n"
      ]
    },
    {
      "cell_type": "code",
      "source": [
        "x = list(var['Days'])\n",
        "y = list(var['Balance kg'])\n",
        "\n",
        "\n",
        "plt.figure(figsize=(10,10))\n",
        "plt.style.use('seaborn')\n",
        "plt.scatter(x,y,marker=\".\",s=20,edgecolors=\"black\",c=\"red\")\n",
        "plt.title(\"Days vs Balance kg\")\n",
        "plt.show()"
      ],
      "metadata": {
        "colab": {
          "base_uri": "https://localhost:8080/",
          "height": 606
        },
        "id": "3AnK8njelTYz",
        "outputId": "d370d0ea-7683-4f69-8609-c314f055d7d9"
      },
      "execution_count": 37,
      "outputs": [
        {
          "output_type": "display_data",
          "data": {
            "text/plain": [
              "<Figure size 720x720 with 1 Axes>"
            ],
            "image/png": "[encoded data removed]"
          },
          "metadata": {}
        }
      ]
    },
    {
      "cell_type": "code",
      "source": [
        "x = list(var['Days'])\n",
        "y = list(var['Drop kg'])\n",
        "\n",
        "\n",
        "plt.figure(figsize=(10,10))\n",
        "plt.style.use('seaborn')\n",
        "plt.scatter(x,y,marker=\".\",s=20,edgecolors=\"black\",c=\"red\")\n",
        "plt.title(\"Days vs Drop kg\")\n",
        "plt.show()"
      ],
      "metadata": {
        "colab": {
          "base_uri": "https://localhost:8080/",
          "height": 606
        },
        "id": "9nJujRyanaKc",
        "outputId": "ad05827d-d347-4951-cbf4-35e23dac132a"
      },
      "execution_count": 40,
      "outputs": [
        {
          "output_type": "display_data",
          "data": {
            "text/plain": [
              "<Figure size 720x720 with 1 Axes>"
            ],
            "image/png": "[encoded data removed]"
          },
          "metadata": {}
        }
      ]
    },
    {
      "cell_type": "code",
      "source": [
        ""
      ],
      "metadata": {
        "id": "FKTvtX82ouVn"
      },
      "execution_count": 40,
      "outputs": []
    },
    {
      "cell_type": "code",
      "source": [
        ""
      ],
      "metadata": {
        "id": "3hEgZKweo227"
      },
      "execution_count": null,
      "outputs": []
    }
  ],
  "metadata": {
    "colab": {
      "collapsed_sections": [],
      "name": "Project_Weight Tracker.ipynb",
      "provenance": [],
      "authorship_tag": "ABX9TyPGr/FCXdLnJ8yzhBOH3e33",
      "include_colab_link": true
    },
    "kernelspec": {
      "display_name": "Python 3",
      "name": "python3"
    },
    "language_info": {
      "name": "python"
    }
  },
  "nbformat": 4,
  "nbformat_minor": 0
}